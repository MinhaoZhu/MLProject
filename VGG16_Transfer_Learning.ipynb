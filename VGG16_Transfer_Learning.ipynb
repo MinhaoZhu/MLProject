{
 "cells": [
  {
   "cell_type": "code",
   "execution_count": 30,
   "source": [
    "from IPython.core.interactiveshell import InteractiveShell\r\n",
    "import seaborn as sns\r\n",
    "# PyTorch\r\n",
    "from torchvision import transforms, datasets, models\r\n",
    "import torch\r\n",
    "from torch import optim, cuda\r\n",
    "from torch.utils.data import DataLoader, sampler\r\n",
    "import torch.nn as nn\r\n",
    "\r\n",
    "import warnings\r\n",
    "warnings.filterwarnings('ignore', category=FutureWarning)\r\n",
    "\r\n",
    "# Data science tools\r\n",
    "import numpy as np\r\n",
    "import pandas as pd\r\n",
    "import os\r\n",
    "\r\n",
    "# Image manipulations\r\n",
    "from PIL import Image\r\n",
    "# Useful for examining network\r\n",
    "from torchsummary import summary\r\n",
    "# Timing utility\r\n",
    "from timeit import default_timer as timer\r\n",
    "\r\n",
    "# Visualizations\r\n",
    "import matplotlib.pyplot as plt\r\n",
    "%matplotlib inline\r\n",
    "plt.rcParams['font.size'] = 14\r\n",
    "\r\n",
    "# Printing out all outputs\r\n",
    "InteractiveShell.ast_node_interactivity = 'all'"
   ],
   "outputs": [],
   "metadata": {}
  },
  {
   "cell_type": "code",
   "execution_count": 31,
   "source": [
    "import cv2\r\n",
    "import os\r\n",
    "import numpy as np\r\n",
    "import shutil\r\n",
    "\r\n",
    "def dog_face_filter(img_path):\r\n",
    "    face_cascade = cv2.CascadeClassifier(\"cascades/data/haarcascade_frontalface_alt2.xml\")\r\n",
    "\r\n",
    "    # Read the input image\r\n",
    "    try:\r\n",
    "        img = cv2.imread(img_path)\r\n",
    "        # Convert into grayscale\r\n",
    "        gray = cv2.cvtColor(img, cv2.COLOR_BGR2GRAY)\r\n",
    "        # Detect faces\r\n",
    "        faces = face_cascade.detectMultiScale(gray, 1.1, 5)\r\n",
    "\r\n",
    "        if len(faces) >= 1:\r\n",
    "            return True\r\n",
    "    except Exception as e:\r\n",
    "        print(e)\r\n",
    "    \r\n",
    "    return False\r\n",
    "\r\n",
    "def copy_files():\r\n",
    "    dirs = [\"happy_dog\", \"sad_dog\", \"scary_dog\", \"sleepy_dog\"]\r\n",
    "\r\n",
    "    for one_dir in dirs:\r\n",
    "        final_files = []\r\n",
    "        current_folder = one_dir + \"/\"\r\n",
    "        training_folder = \"train/\" + one_dir + \"/\"\r\n",
    "        testing_foler = \"test/\"+ one_dir + \"/\"\r\n",
    "        valid_folder = \"valid/\"+ one_dir + \"/\"\r\n",
    "        for file in os.listdir(one_dir):\r\n",
    "            filepath = current_folder+file\r\n",
    "            # print(filepath)\r\n",
    "            if dog_face_filter(filepath):\r\n",
    "                final_files.append(filepath)\r\n",
    "        \r\n",
    "        for index,item in enumerate(final_files):\r\n",
    "            size = len(final_files)\r\n",
    "            if (index+1)/size <=0.5:\r\n",
    "                if not os.path.isdir(training_folder):\r\n",
    "                    os.mkdir(training_folder)\r\n",
    "                newPath = shutil.copy(item, training_folder)\r\n",
    "            elif (index+1)/size > 0.5 and (index+1)/size <=0.75:\r\n",
    "                if not os.path.isdir(testing_foler):\r\n",
    "                    os.mkdir(testing_foler)\r\n",
    "                newPath = shutil.copy(item, testing_foler)\r\n",
    "            else:\r\n",
    "                if not os.path.isdir(valid_folder):\r\n",
    "                    os.mkdir(valid_folder)\r\n",
    "                newPath = shutil.copy(item, valid_folder)\r\n",
    "        print(current_folder)\r\n",
    "\r\n",
    "\r\n",
    "    return None\r\n",
    "\r\n"
   ],
   "outputs": [],
   "metadata": {}
  },
  {
   "cell_type": "code",
   "execution_count": 32,
   "source": [
    "# Location of data\r\n",
    "datadir = os. getcwd()\r\n",
    "traindir = datadir + '/train/'\r\n",
    "validdir = datadir + '/valid/'\r\n",
    "testdir = datadir + '/test/'\r\n",
    "\r\n",
    "save_file_name = 'vgg16-transfer-4.pt'\r\n",
    "checkpoint_path = 'vgg16-transfer-4.pth'\r\n",
    "\r\n",
    "# Change to fit hardware\r\n",
    "batch_size = 128\r\n",
    "\r\n",
    "# Whether to train on a gpu\r\n",
    "train_on_gpu = cuda.is_available()\r\n",
    "print(f'Train on gpu: {train_on_gpu}')\r\n",
    "multi_gpu = False\r\n",
    "# Number of gpus\r\n",
    "if train_on_gpu:\r\n",
    "    gpu_count = cuda.device_count()\r\n",
    "    print(f'{gpu_count} gpus detected.')\r\n",
    "    if gpu_count > 1:\r\n",
    "        multi_gpu = True\r\n",
    "    else:\r\n",
    "        multi_gpu = False"
   ],
   "outputs": [
    {
     "output_type": "stream",
     "name": "stdout",
     "text": [
      "Train on gpu: False\n"
     ]
    }
   ],
   "metadata": {}
  },
  {
   "cell_type": "code",
   "execution_count": 33,
   "source": [
    "# Empty lists\r\n",
    "categories = []\r\n",
    "img_categories = []\r\n",
    "n_train = []\r\n",
    "n_valid = []\r\n",
    "n_test = []\r\n",
    "hs = []\r\n",
    "ws = []\r\n",
    "\r\n",
    "# Iterate through each category\r\n",
    "for d in os.listdir(traindir):\r\n",
    "    categories.append(d)\r\n",
    "\r\n",
    "    # Number of each image\r\n",
    "    train_imgs = os.listdir(traindir + d)\r\n",
    "    valid_imgs = os.listdir(validdir + d)\r\n",
    "    test_imgs = os.listdir(testdir + d)\r\n",
    "    n_train.append(len(train_imgs))\r\n",
    "    n_valid.append(len(valid_imgs))\r\n",
    "    n_test.append(len(test_imgs))\r\n",
    "\r\n",
    "    # Find stats for train images\r\n",
    "    for i in train_imgs:\r\n",
    "        img_categories.append(d)\r\n",
    "        img = Image.open(traindir + d + '/' + i)\r\n",
    "        img_array = np.array(img)\r\n",
    "        # Shape\r\n",
    "        hs.append(img_array.shape[0])\r\n",
    "        ws.append(img_array.shape[1])\r\n",
    "\r\n",
    "# Dataframe of categories\r\n",
    "cat_df = pd.DataFrame({'category': categories,\r\n",
    "                       'n_train': n_train,\r\n",
    "                       'n_valid': n_valid, 'n_test': n_test}).\\\r\n",
    "    sort_values('category')\r\n",
    "\r\n",
    "# Dataframe of training images\r\n",
    "image_df = pd.DataFrame({\r\n",
    "    'category': img_categories,\r\n",
    "    'height': hs,\r\n",
    "    'width': ws\r\n",
    "})\r\n",
    "\r\n",
    "cat_df.sort_values('n_train', ascending=False, inplace=True)\r\n",
    "cat_df"
   ],
   "outputs": [
    {
     "output_type": "execute_result",
     "data": {
      "text/html": [
       "<div>\n",
       "<style scoped>\n",
       "    .dataframe tbody tr th:only-of-type {\n",
       "        vertical-align: middle;\n",
       "    }\n",
       "\n",
       "    .dataframe tbody tr th {\n",
       "        vertical-align: top;\n",
       "    }\n",
       "\n",
       "    .dataframe thead th {\n",
       "        text-align: right;\n",
       "    }\n",
       "</style>\n",
       "<table border=\"1\" class=\"dataframe\">\n",
       "  <thead>\n",
       "    <tr style=\"text-align: right;\">\n",
       "      <th></th>\n",
       "      <th>category</th>\n",
       "      <th>n_train</th>\n",
       "      <th>n_valid</th>\n",
       "      <th>n_test</th>\n",
       "    </tr>\n",
       "  </thead>\n",
       "  <tbody>\n",
       "    <tr>\n",
       "      <th>2</th>\n",
       "      <td>sleepy_dog</td>\n",
       "      <td>115</td>\n",
       "      <td>48</td>\n",
       "      <td>56</td>\n",
       "    </tr>\n",
       "    <tr>\n",
       "      <th>0</th>\n",
       "      <td>happy_dog</td>\n",
       "      <td>106</td>\n",
       "      <td>56</td>\n",
       "      <td>57</td>\n",
       "    </tr>\n",
       "    <tr>\n",
       "      <th>1</th>\n",
       "      <td>sad_dog</td>\n",
       "      <td>102</td>\n",
       "      <td>53</td>\n",
       "      <td>58</td>\n",
       "    </tr>\n",
       "  </tbody>\n",
       "</table>\n",
       "</div>"
      ],
      "text/plain": [
       "     category  n_train  n_valid  n_test\n",
       "2  sleepy_dog      115       48      56\n",
       "0   happy_dog      106       56      57\n",
       "1     sad_dog      102       53      58"
      ]
     },
     "metadata": {},
     "execution_count": 33
    }
   ],
   "metadata": {}
  },
  {
   "cell_type": "code",
   "execution_count": 34,
   "source": [
    "cat_df.set_index('category')['n_train'].plot.bar(\r\n",
    "    color='r', figsize=(20, 6))\r\n",
    "plt.xticks(rotation=80)\r\n",
    "plt.ylabel('Count')\r\n",
    "plt.title('Training Images by Category')"
   ],
   "outputs": [
    {
     "output_type": "execute_result",
     "data": {
      "text/plain": [
       "<AxesSubplot:xlabel='category'>"
      ]
     },
     "metadata": {},
     "execution_count": 34
    },
    {
     "output_type": "execute_result",
     "data": {
      "text/plain": [
       "(array([0, 1, 2]),\n",
       " [Text(0, 0, 'sleepy_dog'), Text(1, 0, 'happy_dog'), Text(2, 0, 'sad_dog')])"
      ]
     },
     "metadata": {},
     "execution_count": 34
    },
    {
     "output_type": "execute_result",
     "data": {
      "text/plain": [
       "Text(0, 0.5, 'Count')"
      ]
     },
     "metadata": {},
     "execution_count": 34
    },
    {
     "output_type": "execute_result",
     "data": {
      "text/plain": [
       "Text(0.5, 1.0, 'Training Images by Category')"
      ]
     },
     "metadata": {},
     "execution_count": 34
    },
    {
     "output_type": "display_data",
     "data": {
      "image/png": "[encoded data removed]",
      "text/plain": [
       "<Figure size 1440x432 with 1 Axes>"
      ]
     },
     "metadata": {
      "needs_background": "light"
     }
    }
   ],
   "metadata": {}
  },
  {
   "cell_type": "code",
   "execution_count": 35,
   "source": [
    "\r\n",
    "img_dsc = image_df.groupby('category').describe()\r\n",
    "img_dsc.head()"
   ],
   "outputs": [
    {
     "output_type": "execute_result",
     "data": {
      "text/html": [
       "<div>\n",
       "<style scoped>\n",
       "    .dataframe tbody tr th:only-of-type {\n",
       "        vertical-align: middle;\n",
       "    }\n",
       "\n",
       "    .dataframe tbody tr th {\n",
       "        vertical-align: top;\n",
       "    }\n",
       "\n",
       "    .dataframe thead tr th {\n",
       "        text-align: left;\n",
       "    }\n",
       "\n",
       "    .dataframe thead tr:last-of-type th {\n",
       "        text-align: right;\n",
       "    }\n",
       "</style>\n",
       "<table border=\"1\" class=\"dataframe\">\n",
       "  <thead>\n",
       "    <tr>\n",
       "      <th></th>\n",
       "      <th colspan=\"8\" halign=\"left\">height</th>\n",
       "      <th colspan=\"8\" halign=\"left\">width</th>\n",
       "    </tr>\n",
       "    <tr>\n",
       "      <th></th>\n",
       "      <th>count</th>\n",
       "      <th>mean</th>\n",
       "      <th>std</th>\n",
       "      <th>min</th>\n",
       "      <th>25%</th>\n",
       "      <th>50%</th>\n",
       "      <th>75%</th>\n",
       "      <th>max</th>\n",
       "      <th>count</th>\n",
       "      <th>mean</th>\n",
       "      <th>std</th>\n",
       "      <th>min</th>\n",
       "      <th>25%</th>\n",
       "      <th>50%</th>\n",
       "      <th>75%</th>\n",
       "      <th>max</th>\n",
       "    </tr>\n",
       "    <tr>\n",
       "      <th>category</th>\n",
       "      <th></th>\n",
       "      <th></th>\n",
       "      <th></th>\n",
       "      <th></th>\n",
       "      <th></th>\n",
       "      <th></th>\n",
       "      <th></th>\n",
       "      <th></th>\n",
       "      <th></th>\n",
       "      <th></th>\n",
       "      <th></th>\n",
       "      <th></th>\n",
       "      <th></th>\n",
       "      <th></th>\n",
       "      <th></th>\n",
       "      <th></th>\n",
       "    </tr>\n",
       "  </thead>\n",
       "  <tbody>\n",
       "    <tr>\n",
       "      <th>happy_dog</th>\n",
       "      <td>106.0</td>\n",
       "      <td>712.584906</td>\n",
       "      <td>285.712005</td>\n",
       "      <td>208.0</td>\n",
       "      <td>526.50</td>\n",
       "      <td>690.0</td>\n",
       "      <td>807.0</td>\n",
       "      <td>2072.0</td>\n",
       "      <td>106.0</td>\n",
       "      <td>699.518868</td>\n",
       "      <td>212.310923</td>\n",
       "      <td>208.0</td>\n",
       "      <td>613.75</td>\n",
       "      <td>650.0</td>\n",
       "      <td>692.0</td>\n",
       "      <td>1920.0</td>\n",
       "    </tr>\n",
       "    <tr>\n",
       "      <th>sad_dog</th>\n",
       "      <td>102.0</td>\n",
       "      <td>611.911765</td>\n",
       "      <td>304.941907</td>\n",
       "      <td>220.0</td>\n",
       "      <td>423.25</td>\n",
       "      <td>553.0</td>\n",
       "      <td>659.0</td>\n",
       "      <td>2130.0</td>\n",
       "      <td>102.0</td>\n",
       "      <td>728.676471</td>\n",
       "      <td>539.283613</td>\n",
       "      <td>185.0</td>\n",
       "      <td>513.50</td>\n",
       "      <td>640.0</td>\n",
       "      <td>658.0</td>\n",
       "      <td>3840.0</td>\n",
       "    </tr>\n",
       "    <tr>\n",
       "      <th>sleepy_dog</th>\n",
       "      <td>115.0</td>\n",
       "      <td>621.634783</td>\n",
       "      <td>337.413155</td>\n",
       "      <td>240.0</td>\n",
       "      <td>427.00</td>\n",
       "      <td>552.0</td>\n",
       "      <td>651.5</td>\n",
       "      <td>2448.0</td>\n",
       "      <td>115.0</td>\n",
       "      <td>775.539130</td>\n",
       "      <td>442.505353</td>\n",
       "      <td>300.0</td>\n",
       "      <td>602.00</td>\n",
       "      <td>640.0</td>\n",
       "      <td>800.0</td>\n",
       "      <td>3264.0</td>\n",
       "    </tr>\n",
       "  </tbody>\n",
       "</table>\n",
       "</div>"
      ],
      "text/plain": [
       "           height                                                       \\\n",
       "            count        mean         std    min     25%    50%    75%   \n",
       "category                                                                 \n",
       "happy_dog   106.0  712.584906  285.712005  208.0  526.50  690.0  807.0   \n",
       "sad_dog     102.0  611.911765  304.941907  220.0  423.25  553.0  659.0   \n",
       "sleepy_dog  115.0  621.634783  337.413155  240.0  427.00  552.0  651.5   \n",
       "\n",
       "                    width                                                \\\n",
       "               max  count        mean         std    min     25%    50%   \n",
       "category                                                                  \n",
       "happy_dog   2072.0  106.0  699.518868  212.310923  208.0  613.75  650.0   \n",
       "sad_dog     2130.0  102.0  728.676471  539.283613  185.0  513.50  640.0   \n",
       "sleepy_dog  2448.0  115.0  775.539130  442.505353  300.0  602.00  640.0   \n",
       "\n",
       "                           \n",
       "              75%     max  \n",
       "category                   \n",
       "happy_dog   692.0  1920.0  \n",
       "sad_dog     658.0  3840.0  \n",
       "sleepy_dog  800.0  3264.0  "
      ]
     },
     "metadata": {},
     "execution_count": 35
    }
   ],
   "metadata": {}
  },
  {
   "cell_type": "code",
   "execution_count": 36,
   "source": [
    "plt.figure(figsize=(10, 6))\r\n",
    "sns.kdeplot(\r\n",
    "    img_dsc['height']['mean'], label='Average Height')\r\n",
    "sns.kdeplot(\r\n",
    "    img_dsc['width']['mean'], label='Average Width')\r\n",
    "plt.xlabel('Pixels')\r\n",
    "plt.ylabel('Density')\r\n",
    "plt.title('Average Size Distribution')"
   ],
   "outputs": [
    {
     "output_type": "execute_result",
     "data": {
      "text/plain": [
       "<Figure size 720x432 with 0 Axes>"
      ]
     },
     "metadata": {},
     "execution_count": 36
    },
    {
     "output_type": "execute_result",
     "data": {
      "text/plain": [
       "<AxesSubplot:xlabel='mean', ylabel='Density'>"
      ]
     },
     "metadata": {},
     "execution_count": 36
    },
    {
     "output_type": "execute_result",
     "data": {
      "text/plain": [
       "<AxesSubplot:xlabel='mean', ylabel='Density'>"
      ]
     },
     "metadata": {},
     "execution_count": 36
    },
    {
     "output_type": "execute_result",
     "data": {
      "text/plain": [
       "Text(0.5, 0, 'Pixels')"
      ]
     },
     "metadata": {},
     "execution_count": 36
    },
    {
     "output_type": "execute_result",
     "data": {
      "text/plain": [
       "Text(0, 0.5, 'Density')"
      ]
     },
     "metadata": {},
     "execution_count": 36
    },
    {
     "output_type": "execute_result",
     "data": {
      "text/plain": [
       "Text(0.5, 1.0, 'Average Size Distribution')"
      ]
     },
     "metadata": {},
     "execution_count": 36
    },
    {
     "output_type": "display_data",
     "data": {
      "image/png": "[encoded data removed]",
      "text/plain": [
       "<Figure size 720x432 with 1 Axes>"
      ]
     },
     "metadata": {
      "needs_background": "light"
     }
    }
   ],
   "metadata": {}
  },
  {
   "cell_type": "code",
   "execution_count": 37,
   "source": [
    "# Image transformations\r\n",
    "image_transforms = {\r\n",
    "    # Train uses data augmentation\r\n",
    "    'train':\r\n",
    "    transforms.Compose([\r\n",
    "        transforms.RandomResizedCrop(size=256, scale=(0.8, 1.0)),\r\n",
    "        transforms.RandomRotation(degrees=15),\r\n",
    "        transforms.ColorJitter(),\r\n",
    "        transforms.RandomHorizontalFlip(),\r\n",
    "        transforms.CenterCrop(size=224),  # Image net standards\r\n",
    "        transforms.ToTensor(),\r\n",
    "        transforms.Normalize([0.485, 0.456, 0.406],\r\n",
    "                             [0.229, 0.224, 0.225])  # Imagenet standards\r\n",
    "    ]),\r\n",
    "    # Validation does not use augmentation\r\n",
    "    'val':\r\n",
    "    transforms.Compose([\r\n",
    "        transforms.Resize(size=256),\r\n",
    "        transforms.CenterCrop(size=224),\r\n",
    "        transforms.ToTensor(),\r\n",
    "        transforms.Normalize([0.485, 0.456, 0.406], [0.229, 0.224, 0.225])\r\n",
    "    ]),\r\n",
    "    # Test does not use augmentation\r\n",
    "    'test':\r\n",
    "    transforms.Compose([\r\n",
    "        transforms.Resize(size=256),\r\n",
    "        transforms.CenterCrop(size=224),\r\n",
    "        transforms.ToTensor(),\r\n",
    "        transforms.Normalize([0.485, 0.456, 0.406], [0.229, 0.224, 0.225])\r\n",
    "    ]),\r\n",
    "}"
   ],
   "outputs": [],
   "metadata": {}
  },
  {
   "cell_type": "code",
   "execution_count": 38,
   "source": [
    "def imshow_tensor(image, ax=None, title=None):\r\n",
    "    \"\"\"Imshow for Tensor.\"\"\"\r\n",
    "\r\n",
    "    if ax is None:\r\n",
    "        fig, ax = plt.subplots()\r\n",
    "\r\n",
    "    # Set the color channel as the third dimension\r\n",
    "    image = image.numpy().transpose((1, 2, 0))\r\n",
    "\r\n",
    "    # Reverse the preprocessing steps\r\n",
    "    mean = np.array([0.485, 0.456, 0.406])\r\n",
    "    std = np.array([0.229, 0.224, 0.225])\r\n",
    "    image = std * image + mean\r\n",
    "\r\n",
    "    # Clip the image pixel values\r\n",
    "    image = np.clip(image, 0, 1)\r\n",
    "\r\n",
    "    ax.imshow(image)\r\n",
    "    plt.axis('off')\r\n",
    "\r\n",
    "    return ax, image"
   ],
   "outputs": [],
   "metadata": {}
  },
  {
   "cell_type": "code",
   "execution_count": 39,
   "source": [
    "# Datasets from each folder\r\n",
    "data = {\r\n",
    "    'train':\r\n",
    "    datasets.ImageFolder(root=traindir, transform=image_transforms['train']),\r\n",
    "    'val':\r\n",
    "    datasets.ImageFolder(root=validdir, transform=image_transforms['val']),\r\n",
    "    'test':\r\n",
    "    datasets.ImageFolder(root=testdir, transform=image_transforms['test'])\r\n",
    "}\r\n",
    "\r\n",
    "# Dataloader iterators\r\n",
    "dataloaders = {\r\n",
    "    'train': DataLoader(data['train'], batch_size=batch_size, shuffle=True),\r\n",
    "    'val': DataLoader(data['val'], batch_size=batch_size, shuffle=True),\r\n",
    "    'test': DataLoader(data['test'], batch_size=batch_size, shuffle=True)\r\n",
    "}"
   ],
   "outputs": [],
   "metadata": {}
  },
  {
   "cell_type": "code",
   "execution_count": 40,
   "source": [
    "trainiter = iter(dataloaders['train'])\r\n",
    "features, labels = next(trainiter)\r\n",
    "features.shape, labels.shape"
   ],
   "outputs": [
    {
     "output_type": "execute_result",
     "data": {
      "text/plain": [
       "(torch.Size([128, 3, 224, 224]), torch.Size([128]))"
      ]
     },
     "metadata": {},
     "execution_count": 40
    }
   ],
   "metadata": {}
  },
  {
   "cell_type": "code",
   "execution_count": 41,
   "source": [
    "\r\n",
    "n_classes = len(cat_df)\r\n",
    "print(f'There are {n_classes} different classes.')\r\n",
    "\r\n",
    "len(data['train'].classes)"
   ],
   "outputs": [
    {
     "output_type": "stream",
     "name": "stdout",
     "text": [
      "There are 3 different classes.\n"
     ]
    },
    {
     "output_type": "execute_result",
     "data": {
      "text/plain": [
       "3"
      ]
     },
     "metadata": {},
     "execution_count": 41
    }
   ],
   "metadata": {}
  },
  {
   "cell_type": "code",
   "execution_count": 42,
   "source": [
    "%matplotlib inline\r\n",
    "# open method used to open different extension image file\r\n",
    "im = Image.open(r\"root/dog/0-0.jpg\")\r\n",
    "x = image_transforms[\"train\"](im)\r\n",
    "\r\n",
    "# x = preprocess(img)\r\n",
    "print(x)\r\n",
    "print(x.shape)\r\n",
    "print(type(x))\r\n",
    "\r\n",
    "# This method will show image in any image viewer\r\n",
    "# im.show()\r\n",
    "\r\n",
    "reverse_preprocess = transforms.Compose([\r\n",
    "    transforms.ToPILImage(),\r\n",
    "    np.array,\r\n",
    "])\r\n",
    "\r\n",
    "plt.imshow(reverse_preprocess(x))"
   ],
   "outputs": [
    {
     "output_type": "error",
     "ename": "FileNotFoundError",
     "evalue": "[Errno 2] No such file or directory: 'root/dog/0-0.jpg'",
     "traceback": [
      "\u001b[1;31m---------------------------------------------------------------------------\u001b[0m",
      "\u001b[1;31mFileNotFoundError\u001b[0m                         Traceback (most recent call last)",
      "\u001b[1;32m~\\AppData\\Local\\Temp/ipykernel_3676/3248231835.py\u001b[0m in \u001b[0;36m<module>\u001b[1;34m\u001b[0m\n\u001b[0;32m      1\u001b[0m \u001b[0mget_ipython\u001b[0m\u001b[1;33m(\u001b[0m\u001b[1;33m)\u001b[0m\u001b[1;33m.\u001b[0m\u001b[0mrun_line_magic\u001b[0m\u001b[1;33m(\u001b[0m\u001b[1;34m'matplotlib'\u001b[0m\u001b[1;33m,\u001b[0m \u001b[1;34m'inline'\u001b[0m\u001b[1;33m)\u001b[0m\u001b[1;33m\u001b[0m\u001b[1;33m\u001b[0m\u001b[0m\n\u001b[0;32m      2\u001b[0m \u001b[1;31m# open method used to open different extension image file\u001b[0m\u001b[1;33m\u001b[0m\u001b[1;33m\u001b[0m\u001b[1;33m\u001b[0m\u001b[0m\n\u001b[1;32m----> 3\u001b[1;33m \u001b[0mim\u001b[0m \u001b[1;33m=\u001b[0m \u001b[0mImage\u001b[0m\u001b[1;33m.\u001b[0m\u001b[0mopen\u001b[0m\u001b[1;33m(\u001b[0m\u001b[1;34mr\"root/dog/0-0.jpg\"\u001b[0m\u001b[1;33m)\u001b[0m\u001b[1;33m\u001b[0m\u001b[1;33m\u001b[0m\u001b[0m\n\u001b[0m\u001b[0;32m      4\u001b[0m \u001b[0mx\u001b[0m \u001b[1;33m=\u001b[0m \u001b[0mimage_transforms\u001b[0m\u001b[1;33m[\u001b[0m\u001b[1;34m\"train\"\u001b[0m\u001b[1;33m]\u001b[0m\u001b[1;33m(\u001b[0m\u001b[0mim\u001b[0m\u001b[1;33m)\u001b[0m\u001b[1;33m\u001b[0m\u001b[1;33m\u001b[0m\u001b[0m\n\u001b[0;32m      5\u001b[0m \u001b[1;33m\u001b[0m\u001b[0m\n",
      "\u001b[1;32mc:\\Users\\Acer\\OneDrive\\文档\\GitHub\\MLProject\\env\\lib\\site-packages\\PIL\\Image.py\u001b[0m in \u001b[0;36mopen\u001b[1;34m(fp, mode, formats)\u001b[0m\n\u001b[0;32m   2966\u001b[0m \u001b[1;33m\u001b[0m\u001b[0m\n\u001b[0;32m   2967\u001b[0m     \u001b[1;32mif\u001b[0m \u001b[0mfilename\u001b[0m\u001b[1;33m:\u001b[0m\u001b[1;33m\u001b[0m\u001b[1;33m\u001b[0m\u001b[0m\n\u001b[1;32m-> 2968\u001b[1;33m         \u001b[0mfp\u001b[0m \u001b[1;33m=\u001b[0m \u001b[0mbuiltins\u001b[0m\u001b[1;33m.\u001b[0m\u001b[0mopen\u001b[0m\u001b[1;33m(\u001b[0m\u001b[0mfilename\u001b[0m\u001b[1;33m,\u001b[0m \u001b[1;34m\"rb\"\u001b[0m\u001b[1;33m)\u001b[0m\u001b[1;33m\u001b[0m\u001b[1;33m\u001b[0m\u001b[0m\n\u001b[0m\u001b[0;32m   2969\u001b[0m         \u001b[0mexclusive_fp\u001b[0m \u001b[1;33m=\u001b[0m \u001b[1;32mTrue\u001b[0m\u001b[1;33m\u001b[0m\u001b[1;33m\u001b[0m\u001b[0m\n\u001b[0;32m   2970\u001b[0m \u001b[1;33m\u001b[0m\u001b[0m\n",
      "\u001b[1;31mFileNotFoundError\u001b[0m: [Errno 2] No such file or directory: 'root/dog/0-0.jpg'"
     ]
    }
   ],
   "metadata": {}
  },
  {
   "cell_type": "code",
   "execution_count": 43,
   "source": [
    "from torchvision import models\r\n",
    "model = models.vgg16(pretrained=True)\r\n",
    "model"
   ],
   "outputs": [
    {
     "output_type": "execute_result",
     "data": {
      "text/plain": [
       "VGG(\n",
       "  (features): Sequential(\n",
       "    (0): Conv2d(3, 64, kernel_size=(3, 3), stride=(1, 1), padding=(1, 1))\n",
       "    (1): ReLU(inplace=True)\n",
       "    (2): Conv2d(64, 64, kernel_size=(3, 3), stride=(1, 1), padding=(1, 1))\n",
       "    (3): ReLU(inplace=True)\n",
       "    (4): MaxPool2d(kernel_size=2, stride=2, padding=0, dilation=1, ceil_mode=False)\n",
       "    (5): Conv2d(64, 128, kernel_size=(3, 3), stride=(1, 1), padding=(1, 1))\n",
       "    (6): ReLU(inplace=True)\n",
       "    (7): Conv2d(128, 128, kernel_size=(3, 3), stride=(1, 1), padding=(1, 1))\n",
       "    (8): ReLU(inplace=True)\n",
       "    (9): MaxPool2d(kernel_size=2, stride=2, padding=0, dilation=1, ceil_mode=False)\n",
       "    (10): Conv2d(128, 256, kernel_size=(3, 3), stride=(1, 1), padding=(1, 1))\n",
       "    (11): ReLU(inplace=True)\n",
       "    (12): Conv2d(256, 256, kernel_size=(3, 3), stride=(1, 1), padding=(1, 1))\n",
       "    (13): ReLU(inplace=True)\n",
       "    (14): Conv2d(256, 256, kernel_size=(3, 3), stride=(1, 1), padding=(1, 1))\n",
       "    (15): ReLU(inplace=True)\n",
       "    (16): MaxPool2d(kernel_size=2, stride=2, padding=0, dilation=1, ceil_mode=False)\n",
       "    (17): Conv2d(256, 512, kernel_size=(3, 3), stride=(1, 1), padding=(1, 1))\n",
       "    (18): ReLU(inplace=True)\n",
       "    (19): Conv2d(512, 512, kernel_size=(3, 3), stride=(1, 1), padding=(1, 1))\n",
       "    (20): ReLU(inplace=True)\n",
       "    (21): Conv2d(512, 512, kernel_size=(3, 3), stride=(1, 1), padding=(1, 1))\n",
       "    (22): ReLU(inplace=True)\n",
       "    (23): MaxPool2d(kernel_size=2, stride=2, padding=0, dilation=1, ceil_mode=False)\n",
       "    (24): Conv2d(512, 512, kernel_size=(3, 3), stride=(1, 1), padding=(1, 1))\n",
       "    (25): ReLU(inplace=True)\n",
       "    (26): Conv2d(512, 512, kernel_size=(3, 3), stride=(1, 1), padding=(1, 1))\n",
       "    (27): ReLU(inplace=True)\n",
       "    (28): Conv2d(512, 512, kernel_size=(3, 3), stride=(1, 1), padding=(1, 1))\n",
       "    (29): ReLU(inplace=True)\n",
       "    (30): MaxPool2d(kernel_size=2, stride=2, padding=0, dilation=1, ceil_mode=False)\n",
       "  )\n",
       "  (avgpool): AdaptiveAvgPool2d(output_size=(7, 7))\n",
       "  (classifier): Sequential(\n",
       "    (0): Linear(in_features=25088, out_features=4096, bias=True)\n",
       "    (1): ReLU(inplace=True)\n",
       "    (2): Dropout(p=0.5, inplace=False)\n",
       "    (3): Linear(in_features=4096, out_features=4096, bias=True)\n",
       "    (4): ReLU(inplace=True)\n",
       "    (5): Dropout(p=0.5, inplace=False)\n",
       "    (6): Linear(in_features=4096, out_features=1000, bias=True)\n",
       "  )\n",
       ")"
      ]
     },
     "metadata": {},
     "execution_count": 43
    }
   ],
   "metadata": {}
  },
  {
   "cell_type": "code",
   "execution_count": 44,
   "source": [
    "def get_pretrained_model(model_name):\r\n",
    "    \"\"\"Retrieve a pre-trained model from torchvision\r\n",
    "\r\n",
    "    Params\r\n",
    "    -------\r\n",
    "        model_name (str): name of the model (currently only accepts vgg16 and resnet50)\r\n",
    "\r\n",
    "    Return\r\n",
    "    --------\r\n",
    "        model (PyTorch model): cnn\r\n",
    "\r\n",
    "    \"\"\"\r\n",
    "\r\n",
    "    if model_name == 'vgg16':\r\n",
    "        model = models.vgg16(pretrained=True)\r\n",
    "\r\n",
    "        # Freeze early layers\r\n",
    "        for param in model.parameters():\r\n",
    "            param.requires_grad = False\r\n",
    "        n_inputs = model.classifier[6].in_features\r\n",
    "\r\n",
    "        # Add on classifier\r\n",
    "        model.classifier[6] = nn.Sequential(\r\n",
    "            nn.Linear(n_inputs, 256), nn.ReLU(), nn.Dropout(0.2),\r\n",
    "            nn.Linear(256, n_classes), nn.LogSoftmax(dim=1))\r\n",
    "\r\n",
    "    elif model_name == 'resnet50':\r\n",
    "        model = models.resnet50(pretrained=True)\r\n",
    "\r\n",
    "        for param in model.parameters():\r\n",
    "            param.requires_grad = False\r\n",
    "\r\n",
    "        n_inputs = model.fc.in_features\r\n",
    "        model.fc = nn.Sequential(\r\n",
    "            nn.Linear(n_inputs, 256), nn.ReLU(), nn.Dropout(0.2),\r\n",
    "            nn.Linear(256, n_classes), nn.LogSoftmax(dim=1))\r\n",
    "\r\n",
    "    # Move to gpu and parallelize\r\n",
    "    if train_on_gpu:\r\n",
    "        model = model.to('cuda')\r\n",
    "\r\n",
    "    if multi_gpu:\r\n",
    "        model = nn.DataParallel(model)\r\n",
    "\r\n",
    "    return model\r\n",
    "\r\n",
    "\r\n"
   ],
   "outputs": [],
   "metadata": {}
  },
  {
   "cell_type": "code",
   "execution_count": 45,
   "source": [
    "\r\n",
    "model = get_pretrained_model('vgg16')\r\n",
    "if multi_gpu:\r\n",
    "    summary(\r\n",
    "        model.module,\r\n",
    "        input_size=(3, 224, 224),\r\n",
    "        batch_size=batch_size,\r\n",
    "        device='cuda')\r\n",
    "else:\r\n",
    "    summary(\r\n",
    "        model, input_size=(3, 224, 224), batch_size=batch_size, device='cuda')"
   ],
   "outputs": [
    {
     "output_type": "stream",
     "name": "stdout",
     "text": [
      "----------------------------------------------------------------\n",
      "        Layer (type)               Output Shape         Param #\n",
      "================================================================\n",
      "            Conv2d-1        [128, 64, 224, 224]           1,792\n",
      "              ReLU-2        [128, 64, 224, 224]               0\n",
      "            Conv2d-3        [128, 64, 224, 224]          36,928\n",
      "              ReLU-4        [128, 64, 224, 224]               0\n",
      "         MaxPool2d-5        [128, 64, 112, 112]               0\n",
      "            Conv2d-6       [128, 128, 112, 112]          73,856\n",
      "              ReLU-7       [128, 128, 112, 112]               0\n",
      "            Conv2d-8       [128, 128, 112, 112]         147,584\n",
      "              ReLU-9       [128, 128, 112, 112]               0\n",
      "        MaxPool2d-10         [128, 128, 56, 56]               0\n",
      "           Conv2d-11         [128, 256, 56, 56]         295,168\n",
      "             ReLU-12         [128, 256, 56, 56]               0\n",
      "           Conv2d-13         [128, 256, 56, 56]         590,080\n",
      "             ReLU-14         [128, 256, 56, 56]               0\n",
      "           Conv2d-15         [128, 256, 56, 56]         590,080\n",
      "             ReLU-16         [128, 256, 56, 56]               0\n",
      "        MaxPool2d-17         [128, 256, 28, 28]               0\n",
      "           Conv2d-18         [128, 512, 28, 28]       1,180,160\n",
      "             ReLU-19         [128, 512, 28, 28]               0\n",
      "           Conv2d-20         [128, 512, 28, 28]       2,359,808\n",
      "             ReLU-21         [128, 512, 28, 28]               0\n",
      "           Conv2d-22         [128, 512, 28, 28]       2,359,808\n",
      "             ReLU-23         [128, 512, 28, 28]               0\n",
      "        MaxPool2d-24         [128, 512, 14, 14]               0\n",
      "           Conv2d-25         [128, 512, 14, 14]       2,359,808\n",
      "             ReLU-26         [128, 512, 14, 14]               0\n",
      "           Conv2d-27         [128, 512, 14, 14]       2,359,808\n",
      "             ReLU-28         [128, 512, 14, 14]               0\n",
      "           Conv2d-29         [128, 512, 14, 14]       2,359,808\n",
      "             ReLU-30         [128, 512, 14, 14]               0\n",
      "        MaxPool2d-31           [128, 512, 7, 7]               0\n",
      "AdaptiveAvgPool2d-32           [128, 512, 7, 7]               0\n",
      "           Linear-33                [128, 4096]     102,764,544\n",
      "             ReLU-34                [128, 4096]               0\n",
      "          Dropout-35                [128, 4096]               0\n",
      "           Linear-36                [128, 4096]      16,781,312\n",
      "             ReLU-37                [128, 4096]               0\n",
      "          Dropout-38                [128, 4096]               0\n",
      "           Linear-39                 [128, 256]       1,048,832\n",
      "             ReLU-40                 [128, 256]               0\n",
      "          Dropout-41                 [128, 256]               0\n",
      "           Linear-42                   [128, 3]             771\n",
      "       LogSoftmax-43                   [128, 3]               0\n",
      "================================================================\n",
      "Total params: 135,310,147\n",
      "Trainable params: 1,049,603\n",
      "Non-trainable params: 134,260,544\n",
      "----------------------------------------------------------------\n",
      "Input size (MB): 73.50\n",
      "Forward/backward pass size (MB): 4764.24\n",
      "Params size (MB): 516.17\n",
      "Estimated Total Size (MB): 5353.91\n",
      "----------------------------------------------------------------\n"
     ]
    },
    {
     "output_type": "stream",
     "name": "stderr",
     "text": [
      "c:\\Users\\Acer\\OneDrive\\文档\\GitHub\\MLProject\\env\\lib\\site-packages\\torchsummary\\torchsummary.py:93: RuntimeWarning: overflow encountered in long_scalars\n",
      "  total_output += np.prod(summary[layer][\"output_shape\"])\n"
     ]
    }
   ],
   "metadata": {}
  },
  {
   "cell_type": "code",
   "execution_count": 46,
   "source": [
    "model.classifier"
   ],
   "outputs": [
    {
     "output_type": "execute_result",
     "data": {
      "text/plain": [
       "Sequential(\n",
       "  (0): Linear(in_features=25088, out_features=4096, bias=True)\n",
       "  (1): ReLU(inplace=True)\n",
       "  (2): Dropout(p=0.5, inplace=False)\n",
       "  (3): Linear(in_features=4096, out_features=4096, bias=True)\n",
       "  (4): ReLU(inplace=True)\n",
       "  (5): Dropout(p=0.5, inplace=False)\n",
       "  (6): Sequential(\n",
       "    (0): Linear(in_features=4096, out_features=256, bias=True)\n",
       "    (1): ReLU()\n",
       "    (2): Dropout(p=0.2, inplace=False)\n",
       "    (3): Linear(in_features=256, out_features=3, bias=True)\n",
       "    (4): LogSoftmax(dim=1)\n",
       "  )\n",
       ")"
      ]
     },
     "metadata": {},
     "execution_count": 46
    }
   ],
   "metadata": {}
  },
  {
   "cell_type": "code",
   "execution_count": 47,
   "source": [
    "model.class_to_idx = data['train'].class_to_idx\r\n",
    "model.idx_to_class = {\r\n",
    "    idx: class_\r\n",
    "    for class_, idx in model.class_to_idx.items()\r\n",
    "}\r\n",
    "\r\n",
    "list(model.idx_to_class.items())"
   ],
   "outputs": [
    {
     "output_type": "execute_result",
     "data": {
      "text/plain": [
       "[(0, 'happy_dog'), (1, 'sad_dog'), (2, 'sleepy_dog')]"
      ]
     },
     "metadata": {},
     "execution_count": 47
    }
   ],
   "metadata": {}
  },
  {
   "cell_type": "code",
   "execution_count": 48,
   "source": [
    "\r\n",
    "criterion = nn.NLLLoss()\r\n",
    "optimizer = optim.Adam(model.parameters())\r\n",
    "\r\n",
    "\r\n",
    "for p in optimizer.param_groups[0]['params']:\r\n",
    "    if p.requires_grad:\r\n",
    "        print(p.shape)"
   ],
   "outputs": [
    {
     "output_type": "stream",
     "name": "stdout",
     "text": [
      "torch.Size([256, 4096])\n",
      "torch.Size([256])\n",
      "torch.Size([3, 256])\n",
      "torch.Size([3])\n"
     ]
    }
   ],
   "metadata": {}
  },
  {
   "cell_type": "code",
   "execution_count": 49,
   "source": [
    "def train(model,\r\n",
    "          criterion,\r\n",
    "          optimizer,\r\n",
    "          train_loader,\r\n",
    "          valid_loader,\r\n",
    "          save_file_name,\r\n",
    "          max_epochs_stop=3,\r\n",
    "          n_epochs=20,\r\n",
    "          print_every=2):\r\n",
    "    \"\"\"Train a PyTorch Model\r\n",
    "\r\n",
    "    Params\r\n",
    "    --------\r\n",
    "        model (PyTorch model): cnn to train\r\n",
    "        criterion (PyTorch loss): objective to minimize\r\n",
    "        optimizer (PyTorch optimizier): optimizer to compute gradients of model parameters\r\n",
    "        train_loader (PyTorch dataloader): training dataloader to iterate through\r\n",
    "        valid_loader (PyTorch dataloader): validation dataloader used for early stopping\r\n",
    "        save_file_name (str ending in '.pt'): file path to save the model state dict\r\n",
    "        max_epochs_stop (int): maximum number of epochs with no improvement in validation loss for early stopping\r\n",
    "        n_epochs (int): maximum number of training epochs\r\n",
    "        print_every (int): frequency of epochs to print training stats\r\n",
    "\r\n",
    "    Returns\r\n",
    "    --------\r\n",
    "        model (PyTorch model): trained cnn with best weights\r\n",
    "        history (DataFrame): history of train and validation loss and accuracy\r\n",
    "    \"\"\"\r\n",
    "\r\n",
    "    # Early stopping intialization\r\n",
    "    epochs_no_improve = 0\r\n",
    "    valid_loss_min = np.Inf\r\n",
    "\r\n",
    "    valid_max_acc = 0\r\n",
    "    history = []\r\n",
    "\r\n",
    "    # Number of epochs already trained (if using loaded in model weights)\r\n",
    "    try:\r\n",
    "        print(f'Model has been trained for: {model.epochs} epochs.\\n')\r\n",
    "    except:\r\n",
    "        model.epochs = 0\r\n",
    "        print(f'Starting Training from Scratch.\\n')\r\n",
    "\r\n",
    "    overall_start = timer()\r\n",
    "\r\n",
    "    # Main loop\r\n",
    "    for epoch in range(n_epochs):\r\n",
    "\r\n",
    "        # keep track of training and validation loss each epoch\r\n",
    "        train_loss = 0.0\r\n",
    "        valid_loss = 0.0\r\n",
    "\r\n",
    "        train_acc = 0\r\n",
    "        valid_acc = 0\r\n",
    "\r\n",
    "        # Set to training\r\n",
    "        model.train()\r\n",
    "        start = timer()\r\n",
    "\r\n",
    "        # Training loop\r\n",
    "        for ii, (data, target) in enumerate(train_loader):\r\n",
    "            # Tensors to gpu\r\n",
    "            if train_on_gpu:\r\n",
    "                data, target = data.cuda(), target.cuda()\r\n",
    "\r\n",
    "            # Clear gradients\r\n",
    "            optimizer.zero_grad()\r\n",
    "            # Predicted outputs are log probabilities\r\n",
    "            output = model(data)\r\n",
    "\r\n",
    "            # Loss and backpropagation of gradients\r\n",
    "            loss = criterion(output, target)\r\n",
    "            loss.backward()\r\n",
    "\r\n",
    "            # Update the parameters\r\n",
    "            optimizer.step()\r\n",
    "\r\n",
    "            # Track train loss by multiplying average loss by number of examples in batch\r\n",
    "            train_loss += loss.item() * data.size(0)\r\n",
    "\r\n",
    "            # Calculate accuracy by finding max log probability\r\n",
    "            _, pred = torch.max(output, dim=1)\r\n",
    "            correct_tensor = pred.eq(target.data.view_as(pred))\r\n",
    "            # Need to convert correct tensor from int to float to average\r\n",
    "            accuracy = torch.mean(correct_tensor.type(torch.FloatTensor))\r\n",
    "            # Multiply average accuracy times the number of examples in batch\r\n",
    "            train_acc += accuracy.item() * data.size(0)\r\n",
    "\r\n",
    "            # Track training progress\r\n",
    "            print(\r\n",
    "                f'Epoch: {epoch}\\t{100 * (ii + 1) / len(train_loader):.2f}% complete. {timer() - start:.2f} seconds elapsed in epoch.',\r\n",
    "                end='\\r')\r\n",
    "\r\n",
    "        # After training loops ends, start validation\r\n",
    "        else:\r\n",
    "            model.epochs += 1\r\n",
    "\r\n",
    "            # Don't need to keep track of gradients\r\n",
    "            with torch.no_grad():\r\n",
    "                # Set to evaluation mode\r\n",
    "                model.eval()\r\n",
    "\r\n",
    "                # Validation loop\r\n",
    "                for data, target in valid_loader:\r\n",
    "                    # Tensors to gpu\r\n",
    "                    if train_on_gpu:\r\n",
    "                        data, target = data.cuda(), target.cuda()\r\n",
    "\r\n",
    "                    # Forward pass\r\n",
    "                    output = model(data)\r\n",
    "\r\n",
    "                    # Validation loss\r\n",
    "                    loss = criterion(output, target)\r\n",
    "                    # Multiply average loss times the number of examples in batch\r\n",
    "                    valid_loss += loss.item() * data.size(0)\r\n",
    "\r\n",
    "                    # Calculate validation accuracy\r\n",
    "                    _, pred = torch.max(output, dim=1)\r\n",
    "                    correct_tensor = pred.eq(target.data.view_as(pred))\r\n",
    "                    accuracy = torch.mean(\r\n",
    "                        correct_tensor.type(torch.FloatTensor))\r\n",
    "                    # Multiply average accuracy times the number of examples\r\n",
    "                    valid_acc += accuracy.item() * data.size(0)\r\n",
    "\r\n",
    "                # Calculate average losses\r\n",
    "                train_loss = train_loss / len(train_loader.dataset)\r\n",
    "                valid_loss = valid_loss / len(valid_loader.dataset)\r\n",
    "\r\n",
    "                # Calculate average accuracy\r\n",
    "                train_acc = train_acc / len(train_loader.dataset)\r\n",
    "                valid_acc = valid_acc / len(valid_loader.dataset)\r\n",
    "\r\n",
    "                history.append([train_loss, valid_loss, train_acc, valid_acc])\r\n",
    "\r\n",
    "                # Print training and validation results\r\n",
    "                if (epoch + 1) % print_every == 0:\r\n",
    "                    print(\r\n",
    "                        f'\\nEpoch: {epoch} \\tTraining Loss: {train_loss:.4f} \\tValidation Loss: {valid_loss:.4f}'\r\n",
    "                    )\r\n",
    "                    print(\r\n",
    "                        f'\\t\\tTraining Accuracy: {100 * train_acc:.2f}%\\t Validation Accuracy: {100 * valid_acc:.2f}%'\r\n",
    "                    )\r\n",
    "\r\n",
    "                # Save the model if validation loss decreases\r\n",
    "                if valid_loss < valid_loss_min:\r\n",
    "                    # Save model\r\n",
    "                    torch.save(model.state_dict(), save_file_name)\r\n",
    "                    # Track improvement\r\n",
    "                    epochs_no_improve = 0\r\n",
    "                    valid_loss_min = valid_loss\r\n",
    "                    valid_best_acc = valid_acc\r\n",
    "                    best_epoch = epoch\r\n",
    "\r\n",
    "                # Otherwise increment count of epochs with no improvement\r\n",
    "                else:\r\n",
    "                    epochs_no_improve += 1\r\n",
    "                    # Trigger early stopping\r\n",
    "                    if epochs_no_improve >= max_epochs_stop:\r\n",
    "                        print(\r\n",
    "                            f'\\nEarly Stopping! Total epochs: {epoch}. Best epoch: {best_epoch} with loss: {valid_loss_min:.2f} and acc: {100 * valid_acc:.2f}%'\r\n",
    "                        )\r\n",
    "                        total_time = timer() - overall_start\r\n",
    "                        print(\r\n",
    "                            f'{total_time:.2f} total seconds elapsed. {total_time / (epoch+1):.2f} seconds per epoch.'\r\n",
    "                        )\r\n",
    "\r\n",
    "                        # Load the best state dict\r\n",
    "                        model.load_state_dict(torch.load(save_file_name))\r\n",
    "                        # Attach the optimizer\r\n",
    "                        model.optimizer = optimizer\r\n",
    "\r\n",
    "                        # Format history\r\n",
    "                        history = pd.DataFrame(\r\n",
    "                            history,\r\n",
    "                            columns=[\r\n",
    "                                'train_loss', 'valid_loss', 'train_acc',\r\n",
    "                                'valid_acc'\r\n",
    "                            ])\r\n",
    "                        return model, history\r\n",
    "\r\n",
    "    # Attach the optimizer\r\n",
    "    model.optimizer = optimizer\r\n",
    "    # Record overall time and print out stats\r\n",
    "    total_time = timer() - overall_start\r\n",
    "    print(\r\n",
    "        f'\\nBest epoch: {best_epoch} with loss: {valid_loss_min:.2f} and acc: {100 * valid_acc:.2f}%'\r\n",
    "    )\r\n",
    "    print(\r\n",
    "        f'{total_time:.2f} total seconds elapsed. {total_time / (epoch):.2f} seconds per epoch.'\r\n",
    "    )\r\n",
    "    # Format history\r\n",
    "    history = pd.DataFrame(\r\n",
    "        history,\r\n",
    "        columns=['train_loss', 'valid_loss', 'train_acc', 'valid_acc'])\r\n",
    "    return model, history"
   ],
   "outputs": [],
   "metadata": {}
  },
  {
   "cell_type": "code",
   "execution_count": 50,
   "source": [
    "model, history = train(\r\n",
    "    model,\r\n",
    "    criterion,\r\n",
    "    optimizer,\r\n",
    "    dataloaders['train'],\r\n",
    "    dataloaders['val'],\r\n",
    "    save_file_name=save_file_name,\r\n",
    "    max_epochs_stop=5,\r\n",
    "    n_epochs=30,\r\n",
    "    print_every=1)"
   ],
   "outputs": [
    {
     "output_type": "stream",
     "name": "stdout",
     "text": [
      "Starting Training from Scratch.\n",
      "\n",
      "\n",
      "Epoch: 0 \tTraining Loss: 0.9133 \tValidation Loss: 0.6615\n",
      "\t\tTraining Accuracy: 53.56%\t Validation Accuracy: 75.16%\n",
      "\n",
      "Epoch: 1 \tTraining Loss: 0.5307 \tValidation Loss: 0.6472\n",
      "\t\tTraining Accuracy: 78.64%\t Validation Accuracy: 74.52%\n",
      "\n",
      "Epoch: 2 \tTraining Loss: 0.4659 \tValidation Loss: 0.5978\n",
      "\t\tTraining Accuracy: 83.28%\t Validation Accuracy: 75.80%\n",
      "\n",
      "Epoch: 3 \tTraining Loss: 0.3823 \tValidation Loss: 0.5654\n",
      "\t\tTraining Accuracy: 87.62%\t Validation Accuracy: 78.98%\n",
      "\n",
      "Epoch: 4 \tTraining Loss: 0.3035 \tValidation Loss: 0.5549\n",
      "\t\tTraining Accuracy: 88.24%\t Validation Accuracy: 78.98%\n",
      "\n",
      "Epoch: 5 \tTraining Loss: 0.2237 \tValidation Loss: 0.5521\n",
      "\t\tTraining Accuracy: 91.64%\t Validation Accuracy: 79.62%\n",
      "\n",
      "Epoch: 6 \tTraining Loss: 0.2427 \tValidation Loss: 0.5587\n",
      "\t\tTraining Accuracy: 89.47%\t Validation Accuracy: 77.07%\n",
      "\n",
      "Epoch: 7 \tTraining Loss: 0.2348 \tValidation Loss: 0.5590\n",
      "\t\tTraining Accuracy: 90.40%\t Validation Accuracy: 78.34%\n",
      "\n",
      "Epoch: 8 \tTraining Loss: 0.2150 \tValidation Loss: 0.5571\n",
      "\t\tTraining Accuracy: 91.64%\t Validation Accuracy: 78.98%\n",
      "\n",
      "Epoch: 9 \tTraining Loss: 0.2177 \tValidation Loss: 0.5745\n",
      "\t\tTraining Accuracy: 92.26%\t Validation Accuracy: 77.07%\n",
      "\n",
      "Epoch: 10 \tTraining Loss: 0.1964 \tValidation Loss: 0.5451\n",
      "\t\tTraining Accuracy: 92.57%\t Validation Accuracy: 79.62%\n",
      "\n",
      "Epoch: 11 \tTraining Loss: 0.1897 \tValidation Loss: 0.5784\n",
      "\t\tTraining Accuracy: 92.57%\t Validation Accuracy: 78.34%\n",
      "\n",
      "Epoch: 12 \tTraining Loss: 0.2078 \tValidation Loss: 0.5821\n",
      "\t\tTraining Accuracy: 91.33%\t Validation Accuracy: 81.53%\n",
      "\n",
      "Epoch: 13 \tTraining Loss: 0.1544 \tValidation Loss: 0.6012\n",
      "\t\tTraining Accuracy: 95.05%\t Validation Accuracy: 80.25%\n",
      "\n",
      "Epoch: 14 \tTraining Loss: 0.1345 \tValidation Loss: 0.6027\n",
      "\t\tTraining Accuracy: 95.05%\t Validation Accuracy: 78.34%\n",
      "\n",
      "Epoch: 15 \tTraining Loss: 0.2231 \tValidation Loss: 0.6102\n",
      "\t\tTraining Accuracy: 90.71%\t Validation Accuracy: 78.98%\n",
      "\n",
      "Early Stopping! Total epochs: 15. Best epoch: 10 with loss: 0.55 and acc: 78.98%\n",
      "1594.75 total seconds elapsed. 99.67 seconds per epoch.\n"
     ]
    }
   ],
   "metadata": {}
  },
  {
   "cell_type": "code",
   "execution_count": 51,
   "source": [
    "\r\n",
    "plt.figure(figsize=(8, 6))\r\n",
    "for c in ['train_loss', 'valid_loss']:\r\n",
    "    plt.plot(\r\n",
    "        history[c], label=c)\r\n",
    "plt.legend()\r\n",
    "plt.xlabel('Epoch')\r\n",
    "plt.ylabel('Average Negative Log Likelihood')\r\n",
    "plt.title('Training and Validation Losses')"
   ],
   "outputs": [
    {
     "output_type": "execute_result",
     "data": {
      "text/plain": [
       "<Figure size 576x432 with 0 Axes>"
      ]
     },
     "metadata": {},
     "execution_count": 51
    },
    {
     "output_type": "execute_result",
     "data": {
      "text/plain": [
       "[<matplotlib.lines.Line2D at 0x1e761765b50>]"
      ]
     },
     "metadata": {},
     "execution_count": 51
    },
    {
     "output_type": "execute_result",
     "data": {
      "text/plain": [
       "[<matplotlib.lines.Line2D at 0x1e761770130>]"
      ]
     },
     "metadata": {},
     "execution_count": 51
    },
    {
     "output_type": "execute_result",
     "data": {
      "text/plain": [
       "<matplotlib.legend.Legend at 0x1e7618d1250>"
      ]
     },
     "metadata": {},
     "execution_count": 51
    },
    {
     "output_type": "execute_result",
     "data": {
      "text/plain": [
       "Text(0.5, 0, 'Epoch')"
      ]
     },
     "metadata": {},
     "execution_count": 51
    },
    {
     "output_type": "execute_result",
     "data": {
      "text/plain": [
       "Text(0, 0.5, 'Average Negative Log Likelihood')"
      ]
     },
     "metadata": {},
     "execution_count": 51
    },
    {
     "output_type": "execute_result",
     "data": {
      "text/plain": [
       "Text(0.5, 1.0, 'Training and Validation Losses')"
      ]
     },
     "metadata": {},
     "execution_count": 51
    },
    {
     "output_type": "display_data",
     "data": {
      "image/png": "[encoded data removed]",
      "text/plain": [
       "<Figure size 576x432 with 1 Axes>"
      ]
     },
     "metadata": {
      "needs_background": "light"
     }
    }
   ],
   "metadata": {}
  },
  {
   "cell_type": "code",
   "execution_count": null,
   "source": [
    "import torch.nn as nn\r\n",
    "\r\n",
    "# Freeze model weights\r\n",
    "for param in model.parameters():\r\n",
    "    param.requires_grad = False\r\n",
    "    \r\n",
    "\r\n",
    "# Add on classifier\r\n",
    "model.classifier[6] = nn.Sequential(\r\n",
    "                      nn.Linear(60, 256), \r\n",
    "                      nn.ReLU(), \r\n",
    "                      nn.Dropout(0.4),\r\n",
    "                      nn.Linear(256, 4),                   \r\n",
    "                      nn.LogSoftmax(dim=1))"
   ],
   "outputs": [],
   "metadata": {}
  },
  {
   "cell_type": "code",
   "execution_count": null,
   "source": [
    "from torch import optim\r\n",
    "# Loss and optimizer\r\n",
    "criteration = nn.NLLLoss()\r\n",
    "optimizer = optim.Adam(model.parameters())"
   ],
   "outputs": [],
   "metadata": {}
  },
  {
   "cell_type": "code",
   "execution_count": null,
   "source": [],
   "outputs": [],
   "metadata": {}
  },
  {
   "cell_type": "code",
   "execution_count": null,
   "source": [],
   "outputs": [],
   "metadata": {}
  }
 ],
 "metadata": {
  "kernelspec": {
   "name": "python3",
   "display_name": "Python 3.9.0 64-bit ('env': venv)"
  },
  "language_info": {
   "codemirror_mode": {
    "name": "ipython",
    "version": 3
   },
   "file_extension": ".py",
   "mimetype": "text/x-python",
   "name": "python",
   "nbconvert_exporter": "python",
   "pygments_lexer": "ipython3",
   "version": "3.9.0"
  },
  "interpreter": {
   "hash": "4ad76b76b9040436543991f5276408b6a8a91e6ceea296fc7dc2d404ae8f9bfb"
  }
 },
 "nbformat": 4,
 "nbformat_minor": 4
}